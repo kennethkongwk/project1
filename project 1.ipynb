{
 "cells": [
  {
   "cell_type": "code",
   "execution_count": 1,
   "id": "30dfb76a",
   "metadata": {},
   "outputs": [],
   "source": [
    "import sys \n",
    "assert sys.version_info >= (3,7)\n",
    "\n",
    "import numpy as np\n",
    "import cv2 as cv\n",
    "import matplotlib.pyplot as plt\n",
    "from util_func import *\n"
   ]
  },
  {
   "cell_type": "code",
   "execution_count": 2,
   "id": "819f00d4",
   "metadata": {},
   "outputs": [
    {
     "name": "stdout",
     "output_type": "stream",
     "text": [
      "Collecting opencv-python\n",
      "  Using cached opencv_python-4.8.0.74-cp37-abi3-win_amd64.whl (38.1 MB)\n",
      "Requirement already satisfied: numpy>=1.21.2 in c:\\users\\ken\\anaconda3\\lib\\site-packages (from opencv-python) (1.23.5)\n",
      "Installing collected packages: opencv-python\n",
      "Note: you may need to restart the kernel to use updated packages.\n"
     ]
    },
    {
     "name": "stderr",
     "output_type": "stream",
     "text": [
      "ERROR: Could not install packages due to an OSError: [WinError 5] Access is denied: 'C:\\\\Users\\\\ken\\\\anaconda3\\\\Lib\\\\site-packages\\\\cv2\\\\cv2.pyd'\n",
      "Consider using the `--user` option or check the permissions.\n",
      "\n"
     ]
    }
   ],
   "source": [
    "pip install opencv-python"
   ]
  },
  {
   "cell_type": "markdown",
   "id": "9bbb7a54",
   "metadata": {},
   "source": [
    "## square"
   ]
  },
  {
   "cell_type": "code",
   "execution_count": 23,
   "id": "4ab1d749",
   "metadata": {},
   "outputs": [],
   "source": [
    "# Read the image\n",
    "image = cv.imread('images/square.jpg')\n",
    "\n",
    "# Convert the image to the HSV color space\n",
    "hsv_image = cv.cvtColor(image, cv.COLOR_BGR2HSV)\n",
    "\n",
    "# Define the lower and upper bounds for the light blue color in HSV\n",
    "lower_blue = np.array([90, 100, 100])\n",
    "upper_blue = np.array([110, 255, 255])\n",
    "\n",
    "# Create a binary mask where the light blue color is white and everything else is black\n",
    "mask = cv.inRange(hsv_image, lower_blue, upper_blue)\n",
    "\n",
    "# Apply morphological operations to clean up the mask (optional)\n",
    "kernel = np.ones((5, 5), np.uint8)\n",
    "mask = cv.morphologyEx(mask, cv.MORPH_OPEN, kernel)\n",
    "mask = cv.morphologyEx(mask, cv.MORPH_CLOSE, kernel)\n",
    "\n",
    "# Find contours in the binary mask\n",
    "contours, _ = cv.findContours(mask, cv.RETR_EXTERNAL, cv.CHAIN_APPROX_SIMPLE)\n",
    "\n",
    "# Filter contours based on area to find the largest contour (traffic sign)\n",
    "largest_contour = max(contours, key=cv.contourArea)\n",
    "\n",
    "# Create a mask for the traffic sign region\n",
    "sign_mask = np.zeros_like(image)\n",
    "cv.drawContours(sign_mask, [largest_contour], -1, (255, 255, 255), thickness=cv.FILLED)\n",
    "\n",
    "# Extract the segmented square from the original image using the mask\n",
    "segmented_square = cv.bitwise_and(image, sign_mask)\n"
   ]
  },
  {
   "cell_type": "code",
   "execution_count": 24,
   "id": "08ee6726",
   "metadata": {},
   "outputs": [],
   "source": [
    "# Display only the segmented square without any background\n",
    "cv.imshow('Segmented Square Traffic Sign', segmented_square)\n",
    "cv.waitKey(0)\n",
    "cv.destroyAllWindows()\n"
   ]
  },
  {
   "cell_type": "markdown",
   "id": "39305ef4",
   "metadata": {},
   "source": [
    "## circle"
   ]
  },
  {
   "cell_type": "code",
   "execution_count": 26,
   "id": "19e15926",
   "metadata": {},
   "outputs": [],
   "source": [
    "# Replace 'image_path' with the path to your input image\n",
    "image = cv.imread('images/000_0002.png')\n"
   ]
  },
  {
   "cell_type": "code",
   "execution_count": 27,
   "id": "7a3295cc",
   "metadata": {},
   "outputs": [],
   "source": [
    "# Convert the image to the HSV color space\n",
    "hsv_image = cv.cvtColor(image, cv.COLOR_BGR2HSV)\n",
    "\n",
    "# Define the lower and upper bounds for the red color in HSV\n",
    "lower_red = np.array([0, 100, 100])\n",
    "upper_red = np.array([10, 255, 255])\n",
    "\n",
    "# Create a binary mask where the red color is white and everything else is black\n",
    "mask = cv.inRange(hsv_image, lower_red, upper_red)\n",
    "\n",
    "# Apply morphological operations to clean up the mask (optional)\n",
    "kernel = np.ones((5, 5), np.uint8)\n",
    "mask = cv.morphologyEx(mask, cv.MORPH_OPEN, kernel)\n",
    "mask = cv.morphologyEx(mask, cv.MORPH_CLOSE, kernel)\n",
    "\n",
    "# Find contours in the binary mask\n",
    "contours, _ = cv.findContours(mask, cv.RETR_EXTERNAL, cv.CHAIN_APPROX_SIMPLE)\n",
    "\n",
    "# Filter contours based on area to find the circular traffic sign\n",
    "circular_sign = None\n",
    "for contour in contours:\n",
    "    perimeter = cv.arcLength(contour, True)\n",
    "    approx = cv.approxPolyDP(contour, 0.04 * perimeter, True)\n",
    "    if len(approx) == 8:  # Assuming a circular sign with 8 corners\n",
    "        circular_sign = contour\n",
    "        break\n",
    "\n",
    "# Create a mask for the circular traffic sign region\n",
    "sign_mask = np.zeros_like(image)\n",
    "cv.drawContours(sign_mask, [circular_sign], -1, (255, 255, 255), thickness=cv.FILLED)\n",
    "\n",
    "# Extract the segmented circular sign from the original image using the mask\n",
    "segmented_circular_sign = cv.bitwise_and(image, sign_mask)\n"
   ]
  },
  {
   "cell_type": "code",
   "execution_count": 28,
   "id": "95c0cded",
   "metadata": {},
   "outputs": [],
   "source": [
    "# Display only the segmented circular sign without any background\n",
    "cv.imshow('Segmented Circular Traffic Sign', segmented_circular_sign)\n",
    "cv.waitKey(0)\n",
    "cv.destroyAllWindows()\n"
   ]
  },
  {
   "cell_type": "code",
   "execution_count": null,
   "id": "3238ad27",
   "metadata": {},
   "outputs": [],
   "source": []
  }
 ],
 "metadata": {
  "kernelspec": {
   "display_name": "Python 3 (ipykernel)",
   "language": "python",
   "name": "python3"
  },
  "language_info": {
   "codemirror_mode": {
    "name": "ipython",
    "version": 3
   },
   "file_extension": ".py",
   "mimetype": "text/x-python",
   "name": "python",
   "nbconvert_exporter": "python",
   "pygments_lexer": "ipython3",
   "version": "3.10.9"
  }
 },
 "nbformat": 4,
 "nbformat_minor": 5
}
